{
 "cells": [
  {
   "cell_type": "markdown",
   "metadata": {},
   "source": [
    "# Operaciones Básicas"
   ]
  },
  {
   "cell_type": "markdown",
   "metadata": {},
   "source": [
    "1. Obtén el producto punto y producto cruz entre los siguientes vectores: \n",
    "$\\vec{x_1} = (1,1,1)$ y $\\vec{x_2} = (-1,1,1)$\n",
    "\n",
    "(recuerda cargar la librería LinearAlgebra)"
   ]
  },
  {
   "cell_type": "code",
   "execution_count": 1,
   "metadata": {},
   "outputs": [],
   "source": [
    "using LinearAlgebra #Cargamos la librería"
   ]
  },
  {
   "cell_type": "code",
   "execution_count": 2,
   "metadata": {},
   "outputs": [
    {
     "data": {
      "text/plain": [
       "3-element Array{Int64,1}:\n",
       " -1\n",
       "  1\n",
       "  1"
      ]
     },
     "execution_count": 2,
     "metadata": {},
     "output_type": "execute_result"
    }
   ],
   "source": [
    "#Se definen los vectores \n",
    "x₁ = [1;1;1]\n",
    "x₂ = [-1;1;1]"
   ]
  },
  {
   "cell_type": "code",
   "execution_count": 3,
   "metadata": {},
   "outputs": [
    {
     "name": "stdout",
     "output_type": "stream",
     "text": [
      "x₁ ⋅ x₂ = 1\n",
      "x₁ × x₂ = [0, -2, 2]\n"
     ]
    }
   ],
   "source": [
    "#Calculamos producto punto \n",
    "println(\"x₁ ⋅ x₂ = $(x₁ ⋅ x₂)\")\n",
    "#Calculamos producto cruz\n",
    "println(\"x₁ × x₂ = $(x₁ × x₂)\")"
   ]
  },
  {
   "cell_type": "markdown",
   "metadata": {},
   "source": [
    "2. Resuelve numéricamente el siguiente sistema de ecuaciones usando matrices:\n",
    "\n",
    "\\begin{equation}\n",
    "\\begin{array}{lcl} \n",
    "x_1+x_2+x_3+x_4+x_5 & = & 1.5 \\\\ \n",
    "x_1+x_2-x_3+x_4-x_5 & = & -1.5 \\\\\n",
    "2x_1-3x_2+4x_3-5x_4+6x_5 & = & 0 \\\\\n",
    "-x_1-x_2+3x_3+\\pi x_4+x_5 & = & \\sqrt(2) \\\\\n",
    "5x_1+4x_2+3x_3+2x_4+x_5 & = & \\pi \\\\\n",
    "\\end{array}\n",
    "\\end{equation}\n",
    "\n",
    "Es decir, escribe este sistema de ecuaciones en la forma matricial: $A\\vec{x} = \\vec{b}$ y obtén la solución como: $\\vec{x} = A^{-1}\\vec{b}$.\n"
   ]
  },
  {
   "cell_type": "code",
   "execution_count": 4,
   "metadata": {},
   "outputs": [
    {
     "name": "stdout",
     "output_type": "stream",
     "text": [
      "El vector con las soluciones xᵢ es [-1.586074922600059, 2.1255854698975947, 1.0743232407973897, -0.5395105472975361, 0.4256767592026106]\n"
     ]
    }
   ],
   "source": [
    "#Definimos la matriz de coeficientes A\n",
    "A = [1  1  1  1  1;\n",
    "     1  1 -1  1 -1;\n",
    "     2 -3  4 -5  6;\n",
    "    -1 -1  3  π  1;\n",
    "     5  4  3  2  1]\n",
    "#Definimos el vector de constates b\n",
    "b = [1.5; -1.5; 0; √2; π]\n",
    "#Obtenemos la solución, si acaso existe\n",
    "if det(A) != 0\n",
    "    x = inv(A)*b\n",
    "    println(\"El vector con las soluciones xᵢ es $x\")\n",
    "end"
   ]
  },
  {
   "cell_type": "markdown",
   "metadata": {},
   "source": [
    "# Notación compacta:"
   ]
  },
  {
   "cell_type": "markdown",
   "metadata": {},
   "source": [
    "Es casi el día de $\\pi$, así que haremos un par de problemas que tienen que ver con $\\pi$. Primero recordemos que $\\pi = \\frac{4}{1} - \\frac{4}{3} + \\frac{4}{5} -\\frac{4}{7} +\\dots$. \n",
    "\n",
    "3. Utiliza la notación compacta para escribir el conjunto de los primeros $n = 1,000,000$ números de la forma $(-1)^{i-1} \\frac{4}{2i-1}$ y súmalos para tener una aproximación de $\\pi$."
   ]
  },
  {
   "cell_type": "code",
   "execution_count": 5,
   "metadata": {},
   "outputs": [
    {
     "name": "stdout",
     "output_type": "stream",
     "text": [
      "El valor aproximado de π que encontramos es 3.141591653589793\n"
     ]
    }
   ],
   "source": [
    "#Declaramos un arreglo para guardar los valores de los primeros 1,000,000 de  valores\n",
    "Conjunto = [(-1)^(i-1)*(4/(2i-1)) for i ∈ 1:1_000_000]\n",
    "#Lo sumamos y guardamos el valor en una variable πₐₚᵣₓ \"pi aproximado\"\n",
    "πₐₚᵣₓ = sum(Conjunto)\n",
    "#Se imprime el valor de pi\n",
    "println(\"El valor aproximado de π que encontramos es $(πₐₚᵣₓ)\")"
   ]
  },
  {
   "cell_type": "markdown",
   "metadata": {},
   "source": [
    "¿Qué tan bien aproxima?"
   ]
  },
  {
   "cell_type": "markdown",
   "metadata": {},
   "source": [
    "R: Esta aproximación es pseudo-buena pues se requieren 1,000,000 de términos de la serie para aproximar $\\pi$ con exactitud apenas hasta la quinta posición decimal (el valor real es $\\pi = 3.14159265358979323846$...). Extrañamente, aunque en la quinta posición decimal no coincide la aproximación y valor real, en las sexta y las que siguen (al menos hasta la décimo cuarta cifra) si coinciden. Por lo que aunque el error es de $10^{-6}$, en alguna extraña manera la aproximación es mejor de lo que parece a primera vista."
   ]
  },
  {
   "cell_type": "markdown",
   "metadata": {},
   "source": [
    "# Tipos de Variables: "
   ]
  },
  {
   "cell_type": "markdown",
   "metadata": {},
   "source": [
    "4. ¿Qué tipo de variable son las siguientes:\n",
    "    - n = 100\n",
    "    - x = Float32(2)/Int(25)\n",
    "    - z = 1+2.5*im\n",
    "    - q = 5//2?"
   ]
  },
  {
   "cell_type": "code",
   "execution_count": 6,
   "metadata": {},
   "outputs": [
    {
     "name": "stdout",
     "output_type": "stream",
     "text": [
      "La variable n es de tipo Int64"
     ]
    }
   ],
   "source": [
    "n = 100\n",
    "print(\"La variable n es de tipo $(typeof(n))\")"
   ]
  },
  {
   "cell_type": "code",
   "execution_count": 7,
   "metadata": {},
   "outputs": [
    {
     "name": "stdout",
     "output_type": "stream",
     "text": [
      "La variable x es de tipo Float32"
     ]
    }
   ],
   "source": [
    "x = Float32(2)/Int(25)\n",
    "print(\"La variable x es de tipo $(typeof(x))\")"
   ]
  },
  {
   "cell_type": "code",
   "execution_count": 8,
   "metadata": {},
   "outputs": [
    {
     "name": "stdout",
     "output_type": "stream",
     "text": [
      "La variable z es de tipo Complex{Float64}"
     ]
    }
   ],
   "source": [
    "z = 1 + 2.5im\n",
    "print(\"La variable z es de tipo $(typeof(z))\")"
   ]
  },
  {
   "cell_type": "code",
   "execution_count": 9,
   "metadata": {},
   "outputs": [
    {
     "name": "stdout",
     "output_type": "stream",
     "text": [
      "La variable q es de tipo Rational{Int64}"
     ]
    }
   ],
   "source": [
    "q = 5//2\n",
    "print(\"La variable q es de tipo $(typeof(q))\")"
   ]
  },
  {
   "cell_type": "markdown",
   "metadata": {},
   "source": [
    "5. ¿[1,2] es un número en Julia? (demuestra tu respuesta).  "
   ]
  },
  {
   "cell_type": "code",
   "execution_count": 10,
   "metadata": {},
   "outputs": [
    {
     "name": "stdout",
     "output_type": "stream",
     "text": [
      "[1, 2] no es un número en Julia."
     ]
    }
   ],
   "source": [
    "#Usaremos el siguiente comando para verificar si es o no número en Julia:\n",
    "#typeof([1,2]) <: Number  <-- Verifica si el tipo de dato es hijo de la estructura Number (y por tanto un tipo de número)\n",
    "cosa = [1,2] #Definimos la cosa que no sabemos qué es\n",
    "if typeof(cosa) <: Number #preguntamos si es un tipo de número\n",
    "    print(\"$cosa es un número en Julia.\") #Si lo es, lo indica\n",
    "else\n",
    "    print(\"$cosa no es un número en Julia.\") #Si no lo es, lo indica\n",
    "end"
   ]
  },
  {
   "cell_type": "markdown",
   "metadata": {},
   "source": [
    "6. Obtén $2^{1000}$. ¿Qué tipo de variable es?"
   ]
  },
  {
   "cell_type": "code",
   "execution_count": 11,
   "metadata": {},
   "outputs": [
    {
     "name": "stdout",
     "output_type": "stream",
     "text": [
      "2¹⁰⁰⁰ = 10715086071862673209484250490600018105614048117055336074437503883703510511249361224931983788156958581275946729175531468251871452856923140435984577574698574803934567774824230985421074605062371141877954182153046474983581941267398767559165543946077062914571196477686542167660429831652624386837205668069376\n",
      "2¹⁰⁰⁰ es una variable de tipo BigInt\n"
     ]
    }
   ],
   "source": [
    "dos_a_la_mil = BigInt(2)^1000 #Se define la variable recordando que necesitamos BigInt o BigFloat\n",
    "println(\"2¹⁰⁰⁰ = $(dos_a_la_mil)\") #Se imprime su valor\n",
    "println(\"2¹⁰⁰⁰ es una variable de tipo $(typeof(dos_a_la_mil))\") #Se imprime su tipo"
   ]
  },
  {
   "cell_type": "markdown",
   "metadata": {},
   "source": [
    "Se puede sustituir $\\texttt{BigInt}$ por $\\texttt{BigFloat}$ en cuyo caso el número $2^{1000}$ se expresaría en notación científica y el tipo de variable cambiaría acorde a esto."
   ]
  },
  {
   "cell_type": "markdown",
   "metadata": {},
   "source": [
    "7. Estima con al menos 300 cifras significativas el valor de $4 \\arctan(1)$."
   ]
  },
  {
   "cell_type": "markdown",
   "metadata": {},
   "source": [
    "De trigonometría básica (considérese el triángulo 1-1-√2), es sabido que $\\sin{\\frac{\\pi}{4}} = \\frac{\\sqrt{2}}{2} = \\cos{\\frac{\\pi}{4}}$. Con lo cual $\\tan{\\frac{\\pi}{4}} = 1$ y por supuesto esto implica que $\\arctan{1} = \\frac{\\pi}{4}$. Esto significa que $4\\arctan{1} = \\pi$. Entonces el problema aquí es encontrar $\\pi$ a 300 cifras significativas. Afortunadamente Julia define $\\pi$ con precisión arbitraria y para hacer uso de esto sólo necesitamos hacer uso de $\\texttt{setprecision}$. Se usarán 1000 bits lo cual correspondería con $\\sim 300$ cifras significativas. "
   ]
  },
  {
   "cell_type": "code",
   "execution_count": 12,
   "metadata": {},
   "outputs": [
    {
     "data": {
      "text/plain": [
       "3.1415926535897932384626433832795028841971693993751058209749445923078164062862089986280348253421170679821480865132823066470938446095505822317253594081284811174502841027019385211055596446229489549303819644288109756659334461284756482337867831652712019091456485669234603486104543266482133936072602491412736"
      ]
     },
     "execution_count": 12,
     "metadata": {},
     "output_type": "execute_result"
    }
   ],
   "source": [
    "setprecision(BigFloat, 1000) do #Se establece una precisión de 1000 bits para obtener 300 cifras\n",
    "    BigFloat(π) #Se arroja el valor de π\n",
    "end"
   ]
  },
  {
   "cell_type": "markdown",
   "metadata": {},
   "source": [
    "8. Haz un tipo de variable abstracto que sea ObjetosGeometricos. Después haz un tipo de variable compuesta (un objeto) mutable llamado Segmento, que tenga como características el punto_inicial (un arreglo de 1 dimensión) y el punto_final (otro arreglo de 1 dimensión) y una longitud (un real). "
   ]
  },
  {
   "cell_type": "code",
   "execution_count": 19,
   "metadata": {},
   "outputs": [],
   "source": [
    "abstract type ObjetosGeométricos end"
   ]
  },
  {
   "cell_type": "code",
   "execution_count": 20,
   "metadata": {},
   "outputs": [],
   "source": [
    "mutable struct Segmento <: ObjetosGeométricos\n",
    "    punto_inicial::Array{Float64,1}\n",
    "    punto_final::Array{Float64,1}\n",
    "    longitud::Real\n",
    "end"
   ]
  },
  {
   "cell_type": "markdown",
   "metadata": {},
   "source": [
    "9. Haz otro objeto que se llame Poligono, que tenga como elementos vertices (un arreglo de arreglos), lados (Segmentos), numero_de_lados (enteros), area (un real), y perímetro (la unión de AbstractFloat y enteros). Haz que este objeto sea parte del conjunto de variables abstractas \"ObjetosGeometricos\". "
   ]
  },
  {
   "cell_type": "code",
   "execution_count": 21,
   "metadata": {},
   "outputs": [],
   "source": [
    "mutable struct Polígono <: ObjetosGeométricos\n",
    "    vértices::Array{Array{Float64,1}}\n",
    "    lados::Array{Segmento,1}\n",
    "    número_de_lados::Int\n",
    "    área::Real\n",
    "    perímetro::Union{AbstractFloat,Int}    \n",
    "end"
   ]
  },
  {
   "cell_type": "markdown",
   "metadata": {},
   "source": [
    "# Funciones"
   ]
  },
  {
   "cell_type": "markdown",
   "metadata": {},
   "source": [
    "10. Haz una función que encuentre cualquier número (como tu fecha de cumpleaños ddmmaaaa) dentro de las primeras $6,020,601$ de cifras de $\\pi$. Para esto tendrás que poner la precisión de los BigFloat en $20,000,000$. Si utilizas cadenas, recuerda que la primera cifra es 3 y la segunda es 1, no \".\".  (mi cumpleaños completo está entre la cifra 5712847 y 5712854). ¿Cuándo nací? "
   ]
  },
  {
   "cell_type": "markdown",
   "metadata": {},
   "source": [
    "Dado que una precisión en bits de $b$ corresponde con una precisión en dígitos de $\\log_{10}(2^b)$, necesitamos utilizar $\\texttt{setprecision(20000000)}$."
   ]
  },
  {
   "cell_type": "code",
   "execution_count": 22,
   "metadata": {},
   "outputs": [
    {
     "data": {
      "text/plain": [
       "encuentra_número_en_pi"
      ]
     },
     "execution_count": 22,
     "metadata": {},
     "output_type": "execute_result"
    }
   ],
   "source": [
    "\"\"\"\n",
    "Esta función recibe un número entero y encuentra el lugar en \n",
    "las primeras 6,020,601 cifras de π que concide con el número que se introdujo   \n",
    "\"\"\"\n",
    "function encuentra_número_en_pi(número::Int)\n",
    "    número_str = string(número) #Convertimos el número entero a una cadena\n",
    "    setprecision(BigFloat, 20_000_000) do #Cambiamos la precisión de BigFloat para poder tener los dígitos requeridos\n",
    "        π_cifras = deleteat!([i for i ∈ string(BigFloat(π))], 2) #Creamos una array con π y le quitamos el .\n",
    "        for i ∈ 1:(length(π_cifras)-length(número_str)) #Iteramos sobre las cifras de π sin pasarnos\n",
    "            if número_str[1] == π_cifras[i] #Revisamos que el primer dígito del número coincida con alguna cifra de π\n",
    "                #Si coincidió el primero, revisamos los demás haciendo uso del producto que se haría 0 si uno no coincide\n",
    "                if prod(número_str[1+j] == π_cifras[i+j] for j ∈ 1:(length(número_str)-1)) #Los demás coinciden?\n",
    "                    return \"¡Se encontró el número en la posición $(i)!\" #Si se logra encontrar, se imprime la posición\n",
    "                    break #Como ya lo encontramos, ya no buscamos más coincidencias\n",
    "                end\n",
    "            end\n",
    "        end\n",
    "        println(\"No se logró encontrar el número :(\") #Si en todo el ciclo for no encontró coincidencias, lo indica\n",
    "    end\n",
    "end"
   ]
  },
  {
   "cell_type": "markdown",
   "metadata": {},
   "source": [
    "Si el cumpleaños está entre la cifra 5712845 y 5712852, podemos encontrarlo al buscar justamente en ese intervalo."
   ]
  },
  {
   "cell_type": "code",
   "execution_count": 23,
   "metadata": {},
   "outputs": [
    {
     "name": "stdout",
     "output_type": "stream",
     "text": [
      "03101984\n"
     ]
    }
   ],
   "source": [
    "setprecision(BigFloat, 20_000_000) do\n",
    "    println(join(deleteat!([i for i ∈ string(BigFloat(π))], 2)[5712845:5712852])) #Se imprimen las cifras correspondientes\n",
    "end"
   ]
  },
  {
   "cell_type": "markdown",
   "metadata": {},
   "source": [
    "11. Haz una función que se llame Segmento y requiera como argumentos dos arreglos de dimensión 1. La función debe arrojar un objeto Segmento, que tenga las propiedades de punto_inicial = el primer arreglo, punto_final = segundo arreglo y longitud = la distancia euclidiana entre el primer arreglo y el segundo. "
   ]
  },
  {
   "cell_type": "code",
   "execution_count": 24,
   "metadata": {},
   "outputs": [
    {
     "data": {
      "text/plain": [
       "Segmento"
      ]
     },
     "execution_count": 24,
     "metadata": {},
     "output_type": "execute_result"
    }
   ],
   "source": [
    "using LinearAlgebra #Ya estaba cargada pero se pone para hacer énfasis en que la estamos usando\n",
    "function Segmento(a₁::Array{<:Real,1}, a₂::Array{<:Real,1}) #Definimos la función para arreglos de números reales\n",
    "    return Segmento(a₁, a₂, norm(a₁ - a₂)) #Regresamos el objeto de tipo Segmento previamente definido\n",
    "end"
   ]
  },
  {
   "cell_type": "markdown",
   "metadata": {},
   "source": [
    "12. Haz una función llamada Polígono que tome como elementos un arreglo de arreglos uno dimensionales (que corresponden a los vértices de un polígono), y que regrese un objeto Poligono, que tenga como característica:  vértices = el arreglo de arreglos, lados = los segmentos que van de cada uno de los elementos del arreglo al siguiente (es decir, si el arreglo es V, entonces que genere los segmentos que van de V[i] a V[i+1] y el último de los elementos que lo una al primero, es decir, V[end] unido a V[1]), numero_de_lados = length(del arreglo de arrelgos), area = área del polígono, perimetro = perímetro del polígono. \n",
    "\n",
    "Hint: Busca sobre la \"fórmula de agujeta\" para calcular el área del polígono. Sólo asegúrate que tenga sentido el área, interpreta qué significa el área de los polígonos donde se cruzan los segmentos.  "
   ]
  },
  {
   "cell_type": "code",
   "execution_count": 39,
   "metadata": {},
   "outputs": [
    {
     "data": {
      "text/plain": [
       "Polígono"
      ]
     },
     "execution_count": 39,
     "metadata": {},
     "output_type": "execute_result"
    }
   ],
   "source": [
    "\"\"\"\n",
    "Esta función recibe un arreglo de arreglos de dimensión 1 con las coordenadas de los vértices\n",
    "para generar un polígono. Regresa los mismos vértices, los lados, el número de lados, el área y el perímetro\n",
    "\"\"\"\n",
    "function Polígono(vértices::Array{Array{Float64,1},1})\n",
    "    #Cuenta los vértices, ese el el número de lados\n",
    "    número_de_lados = length(vértices)\n",
    "    #Genera el arreglo de segmentos de los lados usando la función Segmento previamente definida\n",
    "    lados = [Segmento(vértices[i], vértices[i+1]) for i ∈ 1:(número_de_lados-1)]\n",
    "    push!(lados, Segmento(vértices[número_de_lados], vértices[1]))    \n",
    "    #Calcula el perímetro como la suma de las longitudes de los lados\n",
    "    perímetro = sum([lado.longitud for lado ∈ lados ])\n",
    "    #Calcula el área usando la formula de Gauss o \"fórmula de la agujeta\"\n",
    "    área = sum(vértices[i][1]*vértices[i+1][2] - vértices[i+1][1]*vértices[i][2] for i ∈ 1:(número_de_lados-1))\n",
    "    área += vértices[número_de_lados][1]*vértices[1][2] - vértices[1][1]*vértices[número_de_lados][2]\n",
    "    área /= 2\n",
    "    return Polígono(vértices, lados, número_de_lados, área, perímetro)\n",
    "end"
   ]
  },
  {
   "cell_type": "markdown",
   "metadata": {},
   "source": [
    "Nótese que la fórmula de la agujeta sirve para polígonos cuyos lados no se cruzan. En caso de que se crucen, algunos de los triángulos que se forman (la fórmula se basa en triangular el polígono) quedarían con área negativa por estar \"al revés\". En ese caso un polígono podría tener área 0 o negativa según la fórmula. En este sentido es una generalización del área que incluye signo, similar al determinante."
   ]
  },
  {
   "cell_type": "markdown",
   "metadata": {},
   "source": [
    "13. Agrega un método a la función +, de la forma +(ObjetoGeometrico::ObjetosGeometricos...) que regrese un polígono, donde los lados sean los vértices de los segmentos de los objetos geométricos (con el mismo orden que tenga cada objeto y la tupla de objetos geométricos). "
   ]
  },
  {
   "cell_type": "code",
   "execution_count": 61,
   "metadata": {},
   "outputs": [
    {
     "data": {
      "text/plain": [
       "Base.:+"
      ]
     },
     "execution_count": 61,
     "metadata": {},
     "output_type": "execute_result"
    }
   ],
   "source": [
    "import Base.+ #Importamos esto para poder modificar la función predefinida\n",
    "\"\"\"\n",
    "Esta función recibe como argumentos poligonos o segmentos (variables de tipo ObjetosGeométricos) \n",
    "y regresa un Polígono formado por los vértices de los objetos geométricos introducidos\n",
    "\"\"\"\n",
    "function +(ObjetGeométrico::ObjetosGeométricos...)\n",
    "    \n",
    "    Vértices::Array{Array{Float64,1},1} = [] #declaramos un arreglo vacío donde guardaremos \n",
    "                                             #los vértices del nuevo polígono\n",
    "    \n",
    "    for ObGe ∈ ObjetGeométrico #para cada objeto geométrico en la tupla...\n",
    "                                \n",
    "        if ObGe isa Segmento     #si el objeto es un segmento, extraemos el punto inicial y el punto final\n",
    "                                 #se agregan  al arreglo Vértices\n",
    "            Vértices = vcat(Vértices,[ObGe.punto_inicial,ObGe.punto_final]) \n",
    "        \n",
    "        elseif ObGe isa Polígono #si el objeto es un polígono, extraemos el arreglo de sus vértices \n",
    "                                 #y se concatena al arreglo Vértices\n",
    "            Vértices = vcat(Vértices,ObGe.vértices)\n",
    "        else\n",
    "            println(\"ERROR: debes introducir sólamente Objetos Geométricos\")\n",
    "            return -1\n",
    "    \n",
    "        end\n",
    "    end\n",
    "    return Polígono(Vértices) #la función regresa un polígono a partir del nuevo conjunto de vértices\n",
    "end"
   ]
  },
  {
   "cell_type": "markdown",
   "metadata": {},
   "source": [
    "14. Agega los métodos a la función *, de la forma *(ObjetoGeometrico::ObjetosGeometricos, a::Number) y *(a::Number, ObjetosGeometrico::ObjetosGeometricos), de tal forma que la posición de los vértices del objeto geométrico se multiplique por a (y corrija con eso las demás características del objeto geométrico). "
   ]
  },
  {
   "cell_type": "code",
   "execution_count": 80,
   "metadata": {},
   "outputs": [
    {
     "data": {
      "text/plain": [
       "Base.:*"
      ]
     },
     "execution_count": 80,
     "metadata": {},
     "output_type": "execute_result"
    }
   ],
   "source": [
    "import Base.* #importamos para poder agregar los métodos\n",
    "\n",
    "\"\"\"\n",
    "Esta función recibe un objeto geométrico y un número. Regresa otro objeto geométrico cuyos vértices \n",
    "son el resultado de multiplicar las cooredenas de los vértices del objeto introducido por el número dado.\n",
    "\"\"\"\n",
    "function *(ObjetoGeométrico::ObjetosGeométricos, a::Number)\n",
    "    if ObjetoGeométrico isa Segmento     #si el objeto es un segmento,genera un punto inicial y un punto final\n",
    "                                         #multiplicando por a los puntos inicial y final del segmento original\n",
    "                                         #y regresa un segmento con los nuevos puntos\n",
    "       p_inicial = a.*ObjetoGeométrico.punto_inicial \n",
    "       p_final   = a.*ObjetoGeométrico.punto_final\n",
    "       return Segmento(p_inicial,p_final)\n",
    "           \n",
    "    elseif ObjetoGeométrico isa Polígono #si el objeto es un polígono, genera un nuevo arreglo de vértices\n",
    "                                         #multiplicando por a cada uno de lo vértices del polígono y \n",
    "                                         #regresa un Polígono con los nuevos vértices\n",
    "       a_vértices = [a.*vértice for vértice in ObjetoGeométrico.vértices]\n",
    "       return Polígono(a_vértices) \n",
    "    else\n",
    "        println(\"ERROR: debes introducir un objeto geométrico \")\n",
    "        return -1\n",
    "    end\n",
    "end\n",
    "\n",
    "\"\"\"\n",
    "Esta función recibe un número y un objeto geométrico. Regresa otro objeto geométrico cuyos vértices \n",
    "son el resultado de multiplicar las cooredenas de los vértices del objeto introducido por el número dado.\n",
    "\"\"\"\n",
    "function *(a::Number,ObjetoGeométrico::ObjetosGeométricos)\n",
    "    if ObjetoGeométrico isa Segmento     #si el objeto es un segmento,genera un punto inicial y un punto final\n",
    "                                         #multiplicando por a los puntos inicial y final del segmento original\n",
    "                                         #y regresa un segmento con los nuevos puntos\n",
    "       p_inicial = a.*ObjetoGeométrico.punto_inicial \n",
    "       p_final   = a.*ObjetoGeométrico.punto_final\n",
    "       return Segmento(p_inicial,p_final)\n",
    "           \n",
    "    elseif ObjetoGeométrico isa Polígono #si el objeto es un polígono, genera un nuevo arreglo de vértices\n",
    "                                         #multiplicando por a cada uno de lo vértices del polígono y \n",
    "                                         #regresa un Polígono con los nuevos vértices\n",
    "       a_vértices = [a.*vértice for vértice in ObjetoGeométrico.vértices]\n",
    "       return Polígono(a_vértices) \n",
    "    else\n",
    "        println(\"ERROR: debes introducir un ObjetoGeométrico\")\n",
    "        return -1\n",
    "    end\n",
    "end"
   ]
  },
  {
   "cell_type": "markdown",
   "metadata": {},
   "source": [
    "15. Haz una función que tenga como argumentos una función $f$ en $\\mathbb{R}$, 2 reales ($a$ y $b$) y un key argument $n = 20$ y que arroje una lista de segmentos de la siguiente forma. El primer segmento tendrá los vertices $[0,a]$ y $[0,f(a)]$, el segundo segmento tendrá los vértices $[\\delta x,f(a+\\delta x)]$ y $[2\\delta x,f(a+2\\delta x)]$, el tercero tendrá los vértices $[3\\delta x,f(a+3\\delta x)]$ y $[4\\delta x,f(a+4\\delta x)]$, así sucesivamente hasta llegar al segmento $[b-\\delta x,f(b-\\delta x)]$, $[b,f(b)]$ y finalmente el segmento final será el que tenga los vértices $[b,0]$ y $[a, 0]$. Aquí $\\delta x = |b-a|/n$. "
   ]
  },
  {
   "cell_type": "code",
   "execution_count": 84,
   "metadata": {},
   "outputs": [
    {
     "data": {
      "text/plain": [
       "lista_de_segmentos"
      ]
     },
     "execution_count": 84,
     "metadata": {},
     "output_type": "execute_result"
    }
   ],
   "source": [
    "\"\"\"\n",
    "Esta función toma una función y dos números reales. Divide el intervalo entre los números y obtiene una lista\n",
    "de vértices evaluando la función en los dos números, puntos intermedios y dos puntos sobre el eje coordenado.\n",
    "\"\"\"\n",
    "function lista_de_segmentos(f, a::Real, b::Real; n=20) #Se especifica lo que la función debe recibir\n",
    "    δx = abs(b - a)/n #Se divide el intervalo  en n partes iguales\n",
    "    #Primero creamos una lista que tenga a todos los segmentos superiores (los de la forma [a,f(a)],[a+δx,f(a+δx)])\n",
    "    segmentos_de_arriba = [Segmento([a + i*δx, f(a + i*δx)],[a + (i+1)*δx, f(a + (i+1)*δx)]) for i ∈ 0:(n-1)]\n",
    "    lista = append!([Segmento([a, 0],[a, f(a)])], segmentos_de_arriba) #Al inicio agregamos el segmento de la izquierda\n",
    "    return append!(lista, [Segmento([b, f(b)], [b, 0]), Segmento([b, 0], [a, 0])]) #Agregamos los últimos dos segmentos\n",
    "end"
   ]
  },
  {
   "cell_type": "markdown",
   "metadata": {},
   "source": [
    "16. Usa la función del ejercio 15 y la suma de objetos geométricos (ejercicio 13) para obtener una función que calcule el área bajo la curva de f(x). ¿Corresponde siempre con la integral de f(x)?   "
   ]
  },
  {
   "cell_type": "code",
   "execution_count": 93,
   "metadata": {},
   "outputs": [
    {
     "data": {
      "text/plain": [
       "0.9994859052485328"
      ]
     },
     "execution_count": 93,
     "metadata": {},
     "output_type": "execute_result"
    }
   ],
   "source": [
    "\"\"\"\n",
    "Esta función calcula el área bajo la curva de una función entre dos puntos, dividiendo el intervalo en partes iguales\n",
    "y calculando el área un polígono que resulta de unir vértices.\n",
    "\"\"\"\n",
    "function área_bajo_la_curva(f, a::Real, b::Real; n::Int=20)\n",
    "    return -(+(lista_de_segmentos(f,a,b,n=n)...).área)\n",
    "        #Se obtiene un polígono de la suma de los segmetos obtenidos de la función lista_de_segmentos(...) \n",
    "        #luego se obtiene el parámetro \"área\" y nótese que como los vértices van en sentido horario,\n",
    "        #se multiplica lo anterior por -1 \n",
    "        #(pues en la fórmula de la agujeta para el área se asumió un sentido antihorario). \n",
    "    \n",
    "end\n",
    "área_bajo_la_curva(sin, 0, π/2)"
   ]
  },
  {
   "cell_type": "markdown",
   "metadata": {},
   "source": [
    "Si corresponde con la integral (hasta cierto punto). Por ejemplo con n = 1,000,000 se puede calcular la integral $\\int_0^{\\frac{\\pi}{2}} \\sin(x) dx$ con un error de $10^{-13}$. Y basta con tomar n = 20 para un error de $10^{-4}$."
   ]
  },
  {
   "cell_type": "markdown",
   "metadata": {},
   "source": [
    "17. Calcula $\\pi$ usando 3 métodos:\n",
    "\n",
    " -Midiendo el área de un polígono regular de $n$ lados de radio 1. \n",
    " \n",
    " -Midiendo el perímetro de un polígono regular de $n$ lados de radio 1/2. \n",
    " \n",
    " -Calculando 2 veces el área bajo la curva (ejercicio 16) de $ f(x) = \\sqrt{1-x^2}$ entre -1 y 1, para $n = n$ (aquí la segunda $n$ en la igualdad se refiere al valor que asignan a $n$ el key argument de la función en 15). \n",
    "\n",
    "¿Qué método lo aproxima mejor al crecer $n$?"
   ]
  },
  {
   "cell_type": "code",
   "execution_count": 80,
   "metadata": {},
   "outputs": [
    {
     "name": "stdout",
     "output_type": "stream",
     "text": [
      "π₁ ≈ 3.1415729403671344\n",
      "π₂ ≈ 3.1415877252771596\n",
      "π₃ ≈ 3.1414911527196523\n"
     ]
    }
   ],
   "source": [
    "#Con un polígono regular de n lados de radio 1\n",
    "n = 1024\n",
    "println(\"π₁ ≈ $(Polígono([[cos(i*2π/n), sin(i*2π/n)] for i ∈ 0:n-1]).área)\")\n",
    "#Con el perímetro de un polígono regular de n lados de radio 1/2\n",
    "println(\"π₂ ≈ $(Polígono([[cos(i*2π/n)/2, sin(i*2π/n)/2] for i ∈ 0:n-1]).perímetro)\")\n",
    "#Con 2 veces el área bajo la curva de f(x) = √(1-x²) entre -1 y 1\n",
    "println(\"π₃ ≈ $(2*área_bajo_la_curva(x -> sqrt(1-x^2), -1, 1, n=n))\")"
   ]
  },
  {
   "cell_type": "markdown",
   "metadata": {},
   "source": [
    "Según parece, el segundo método es el mejor entre los tres."
   ]
  },
  {
   "cell_type": "code",
   "execution_count": null,
   "metadata": {},
   "outputs": [],
   "source": []
  }
 ],
 "metadata": {
  "kernelspec": {
   "display_name": "Julia 1.5.2",
   "language": "julia",
   "name": "julia-1.5"
  },
  "language_info": {
   "file_extension": ".jl",
   "mimetype": "application/julia",
   "name": "julia",
   "version": "1.5.2"
  }
 },
 "nbformat": 4,
 "nbformat_minor": 4
}
